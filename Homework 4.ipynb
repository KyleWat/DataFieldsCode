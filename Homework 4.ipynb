{
 "cells": [
  {
   "cell_type": "code",
   "execution_count": null,
   "metadata": {},
   "outputs": [],
   "source": [
    "%%html\n",
    "<style type=\"text/css\">\n",
    "  span.ecb { background: yellow; }\n",
    "</style>"
   ]
  },
  {
   "cell_type": "markdown",
   "metadata": {},
   "source": [
    "# ATMO 5331 - Homework 4 - Fall 2023\n",
    "## Due 11:59 PM, Sun 12 Nov, 2023\n",
    "\n",
    "When doing this homework, remember that you have two jobs:\n",
    "1. Make it work.\n",
    "2. Clean it up so that I can understand what you've done. If you think I might not understand, document it with a comment or a function docstring.\n",
    "\n",
    "You should present your work with a clear logical progression. If that seems like a hassle, remember that in doing so you are practicing skills that are expected in your thesis and journal publications.\n",
    "\n",
    "You may work alone or in pairs. I will not be adjudicating relative level of effort in group work, so you are responsible for ensuring that you and your partner contribute equally.\n",
    "\n",
    "<span class=\"ecb\">Comments by ECB</span>"
   ]
  },
  {
   "cell_type": "code",
   "execution_count": null,
   "metadata": {},
   "outputs": [],
   "source": [
    "%matplotlib inline\n",
    "import matplotlib.pyplot as plt\n",
    "import numpy as np"
   ]
  },
  {
   "cell_type": "markdown",
   "metadata": {},
   "source": [
    "\n",
    "**1.** Let's compare our dimensionalized, Barnes-style weight function to Gaussian function in `scipy.signal.windows.gaussian`. We understand its nondimensional frequency response quite well using theory from Koch, Trapp and Doswell, etc. However, the functions in `scipy.signal.windows.gaussian` control the cutoff in terms of the standard deviation. Since the functions are mathmatically equivalent, we should be able to reconcile them.\n",
    "\n",
    "**a.** Using a data spacing of $\\Delta=10$ m, what is the nyquist length scale $L_n$, and the spatial sampling frequency $f_s$ and nyquist $f_n$? Calculate these quantities in code from what is given, don't just fill in the values.\n"
   ]
  },
  {
   "cell_type": "code",
   "execution_count": null,
   "metadata": {},
   "outputs": [],
   "source": [
    "delta = \n",
    "Ln = \n",
    "fs = \n",
    "fn = \n",
    "print(Ln, fs, fn, 1.0/Ln)"
   ]
  },
  {
   "cell_type": "markdown",
   "metadata": {},
   "source": [
    "Let's assume we have $N=2048$ samples of data and sample at evenly spaced locations $x$ from $0$ to $(N-1)\\Delta$.\n",
    "\n",
    "To get a feel for what data looks like in the frequncy domain transform, let's look at a step function, a linear ramp, and a sine wave. The function provided below calcualtes the Fourier transform and plots its amplitude and phase response. You'll use this plot for the rest of the assignment.\n",
    "\n",
    "**b.** There is no waviness to the ramp. Why is there amplitude at so many frequencies? \n",
    "\n",
    "**c.** When you run the code to show the FFT of the sine wave, why is there amplitude at more than a single frequency?"
   ]
  },
  {
   "cell_type": "code",
   "execution_count": null,
   "metadata": {},
   "outputs": [],
   "source": [
    "N = 2047\n",
    "x = np.arange(N, dtype='f8')*delta\n",
    "print(x.min(), x.max())\n",
    "\n",
    "freqs = np.fft.fftfreq(N, delta)\n",
    "df = freqs[1]-freqs[0]\n",
    "# frequency interval is the same as that calculated theoretically from fs/N\n",
    "print(df, fs/N)\n",
    "# and so is the Nyquist\n",
    "print(freqs.min(), freqs.max(), fn)\n",
    "\n",
    "fftshift = np.fft.fftshift\n",
    "\n",
    "def dB(a,base=1.0):\n",
    "    return 10.0*np.log10(a/base)\n",
    "\n",
    "def response_plot(signals, x, axs, freq, labels=None, wavelength=False, dB_amp=True):\n",
    "    \"\"\" Signals is a tuple or list (or iterable) of signals.\n",
    "    \"\"\"\n",
    "    if labels is None:\n",
    "        labels = range(len(signals))\n",
    "    ax_t, ax_f, ax_p = axs\n",
    "    \n",
    "    if wavelength:\n",
    "        freqs = 1.0/freq\n",
    "        freq_label = 'Wavelength, m' \n",
    "        fmin, fmax = np.nanmin(freqs), -np.nanmin(freqs)\n",
    "        for ax in [ax_f, ax_p]: ax.axvline(Ln, color='k')\n",
    "    else:\n",
    "        freqs = freq\n",
    "        freq_label = 'Spatial Frequency, m^-1' \n",
    "        fmin, fmax = np.nanmin(freqs), np.nanmax(freqs)\n",
    "    print(fmin, fmax)\n",
    "    \n",
    "    for signal, label in zip(signals, labels):\n",
    "        fft_s = np.fft.fft(signal/signal.sum(), signal.shape[0])\n",
    "        amplitude = np.abs(fftshift(fft_s))\n",
    "        amplitude /= amplitude.max()\n",
    "        phase = np.angle(fftshift(fft_s))\n",
    "        \n",
    "#         print(amplitude.max(), amplitude.min(), np.all(~np.isfinite(amplitude)))\n",
    "#         print(phase.max(), phase.min())\n",
    "\n",
    "        ax_t.plot(x, signal, label=label)\n",
    "        ax_t.set_ylabel('Data')\n",
    "        ax_t.set_xlabel('Distance (m)')\n",
    "        ax_t.set_xlim(x.min(), x.max())\n",
    "        john = ax_t.legend()\n",
    "\n",
    "        if dB_amp:\n",
    "            ax_f.plot(fftshift(freqs), dB(amplitude), label=label)\n",
    "            ax_f.set_ylim(-40,0)\n",
    "            ax_f.set_ylabel('Amplitude (dB)')\n",
    "        else:\n",
    "            ax_f.plot(fftshift(freqs), amplitude, label=label)\n",
    "            ax_f.set_ylim(0,1)\n",
    "            ax_f.set_ylabel('Amplitude (linear)')\n",
    "        ax_f.set_xlim(fmin, fmax)\n",
    "        ax_f.set_xlabel(freq_label)\n",
    "        john = ax_f.legend()\n",
    "\n",
    "        ax_p.plot(fftshift(freqs), np.degrees(phase), label=label)\n",
    "        ax_p.set_ylim(-180,180)\n",
    "        ax_p.set_xlim(fmin, fmax)\n",
    "        ax_p.set_ylabel('Phase shift (deg)')\n",
    "        ax_p.set_xlabel(freq_label)\n",
    "        john = ax_p.legend()\n",
    "        \n",
    "\n",
    "fig, axes = plt.subplots(3,1, figsize=(10,12), dpi=300)\n",
    "\n",
    "step = np.zeros_like(x)\n",
    "step[:int(N/2)] = 1.0\n",
    "\n",
    "ramp = -x/x.max() + 0.3\n",
    "\n",
    "wave = np.sin(x*12*np.pi/x.max())/2\n",
    "\n",
    "signals = [step, ramp, wave]\n",
    "labels = ['step', 'ramp', 'wave']\n",
    "\n",
    "response_plot(signals[:], x, axes, freqs, labels=labels[:], wavelength=True)"
   ]
  },
  {
   "cell_type": "markdown",
   "metadata": {},
   "source": [
    "**2.** \n",
    "\n",
    "**a.** Implment the Barnes distance-dependent weighting function for $\\kappa^* = 0.1$ and $0.5$. Center the weight function in the middle of the time series.\n",
    "\n",
    "**b.** Simulate an artificial cutoff radius by setting any weights with value less than 0.1 to zero. This will give you four weight functions, two for each $\\kappa^*$.\n",
    "\n",
    "**c.** Use the `response_plot` function provided above to plot the four weight functions and their frequency domain response. Plot in wavelength mode, and zoom in to distances and wavelengths between 0 and 20 (you don't need to show the negative wavelengths)."
   ]
  },
  {
   "cell_type": "code",
   "execution_count": null,
   "metadata": {},
   "outputs": [],
   "source": [
    "def barnes(r, k):\n",
    "    \"\"\" r has units of distance, and k is the dimensional weight parameter kappa\n",
    "        kappa with units of distance squared.\n",
    "        \n",
    "        Returns the weights as a funcion of r.\n",
    "    \"\"\"\n",
    "    pass # replace this line with your function code\n",
    "\n",
    "from scipy.signal.windows import gaussian\n",
    "\n",
    "\n",
    "# your other code here."
   ]
  },
  {
   "cell_type": "markdown",
   "metadata": {},
   "source": [
    "**3.** Instead of weighting with the distance dependent weighting function you wrote, let's use the built-in Gaussian function: `from scipy.signal.windows import gaussian`. It is formulated in terms of the standard deviation. In lecture we derived the relationship $\\sigma = \\sqrt{2\\kappa^*}$. \n",
    "\n",
    "Reproduce your plot above using the built-in Gaussian window (weight) function."
   ]
  },
  {
   "cell_type": "code",
   "execution_count": null,
   "metadata": {},
   "outputs": [],
   "source": [
    "from scipy.signal.windows import gaussian\n",
    "\n",
    "# your code here"
   ]
  },
  {
   "cell_type": "markdown",
   "metadata": {},
   "source": [
    "**4.** Implement and plot the frequency response for 3- and 5-point rectangular weight (boxcar) functions."
   ]
  },
  {
   "cell_type": "code",
   "execution_count": null,
   "metadata": {},
   "outputs": [],
   "source": [
    "# your code here"
   ]
  },
  {
   "cell_type": "markdown",
   "metadata": {},
   "source": [
    "**5.** Implement and plot a 5-point Parzen (Riesz) weight function. Also show the effect of an artifical cutoff by removing the weights below 0.1."
   ]
  },
  {
   "cell_type": "code",
   "execution_count": null,
   "metadata": {},
   "outputs": [],
   "source": [
    "from scipy.signal.windows import parzen\n",
    "\n",
    "# your code here"
   ]
  },
  {
   "cell_type": "markdown",
   "metadata": {},
   "source": [
    "**6.** Implement and plot a 5-point Dolph-Chebyshev weight function with a lowest sidelobe level of 60 dB. Also show the effect of an artifical cutoff by removing the weights below 0.1."
   ]
  },
  {
   "cell_type": "code",
   "execution_count": null,
   "metadata": {},
   "outputs": [],
   "source": [
    "from scipy.signal.windows import chebwin\n",
    "\n",
    "# your code here"
   ]
  },
  {
   "cell_type": "markdown",
   "metadata": {},
   "source": [
    "**7.** Implement and plot a 7-point Blackman and a 7-point Blackman-Harris weight function. There is no need to show the effect of an artificial cutoff here."
   ]
  },
  {
   "cell_type": "code",
   "execution_count": null,
   "metadata": {},
   "outputs": [],
   "source": [
    "from scipy.signal.windows import blackmanharris, blackman\n",
    "\n",
    "# your code here"
   ]
  },
  {
   "cell_type": "markdown",
   "metadata": {},
   "source": [
    "**8.** \n",
    "\n",
    "**a.** Plot all weight functions together on the same graph, excluding those that show the effect of an artificial cutoff. Use  `dB_amp=False` to show the amplitude response in linear units. Zoom in as needed to see detail in the most interesting part of the plot.\n",
    "\n",
    "**b.** Assume our critiera for a best analysis ranks our priorties as follows:\n",
    "1. Smooth frequency response\n",
    "2. Minimum amplitude at the Nyquist\n",
    "3. Maximum amplitude at relatively small wavelengths just next to the Nyquist\n",
    "\n",
    "Which weight functions are worst by these critera?\n",
    "\n",
    "Which weight function do you regard as best, and why?\n",
    "\n",
    "**c.** Compare the Nyquist-crossing amplitudes of the two Gaussian weight functions to the values in Koch et al. (1983), Fig. 1. How does each crossing point differ? What is the reason for the differences?"
   ]
  },
  {
   "cell_type": "code",
   "execution_count": null,
   "metadata": {},
   "outputs": [],
   "source": [
    "# your plotting code here"
   ]
  },
  {
   "cell_type": "markdown",
   "metadata": {},
   "source": []
  }
 ],
 "metadata": {
  "kernelspec": {
   "display_name": "Python [conda env:atmo5331]",
   "language": "python",
   "name": "conda-env-atmo5331-py"
  },
  "language_info": {
   "codemirror_mode": {
    "name": "ipython",
    "version": 3
   },
   "file_extension": ".py",
   "mimetype": "text/x-python",
   "name": "python",
   "nbconvert_exporter": "python",
   "pygments_lexer": "ipython3",
   "version": "3.10.12"
  }
 },
 "nbformat": 4,
 "nbformat_minor": 4
}
