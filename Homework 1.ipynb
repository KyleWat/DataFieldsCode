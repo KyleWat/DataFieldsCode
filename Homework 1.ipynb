{
 "cells": [
  {
   "cell_type": "code",
   "execution_count": 1,
   "metadata": {},
   "outputs": [
    {
     "data": {
      "text/html": [
       "<style type=\"text/css\">\n",
       "  span.ecb { background: yellow; }\n",
       "</style>\n"
      ],
      "text/plain": [
       "<IPython.core.display.HTML object>"
      ]
     },
     "metadata": {},
     "output_type": "display_data"
    }
   ],
   "source": [
    "%%html\n",
    "<style type=\"text/css\">\n",
    "  span.ecb { background: yellow; }\n",
    "</style>"
   ]
  },
  {
   "cell_type": "markdown",
   "metadata": {},
   "source": [
    "<span class=\"ecb\">Grading comments by ECB will be highlighted like this.</span>\n",
    "<span class=\"ecb\"></span>"
   ]
  },
  {
   "cell_type": "markdown",
   "metadata": {
    "tags": []
   },
   "source": [
    "# ATMO 5331 - Homework 1 - Fall 2023\n",
    "## Due 10 Sep 2023, 11:59 pm.\n",
    "\n",
    "When doing this homework, remember that you have two jobs:\n",
    "1. Make it work.\n",
    "2. Clean it up so that I can understand what you've done. If you think I might not undersand, document it with a comment or a function docstring.\n",
    "\n",
    "You should present your work with a clear logical progression. If that seems like a hassle, remember that in doing so you are practicing skills that are expected in your thesis and journal publications.\n",
    "\n",
    "You may work alone or in groups of up to 3. I will not be adjudicating relative level of effort in group work, so you are responsible for ensuring there is an even contribution by your partner."
   ]
  },
  {
   "cell_type": "code",
   "execution_count": null,
   "metadata": {},
   "outputs": [],
   "source": [
    "%matplotlib inline\n",
    "import matplotlib.pyplot as plt"
   ]
  },
  {
   "cell_type": "code",
   "execution_count": null,
   "metadata": {},
   "outputs": [],
   "source": [
    "import numpy as np\n",
    "\n",
    "mcom_lon, mcom_lat = -101.8803718553, 33.5818617015\n",
    "mcom_alt = 957.179"
   ]
  },
  {
   "cell_type": "markdown",
   "metadata": {},
   "source": [
    "**1.** Create the 1D arrays `lon` and `lat`, centered on MCOM and incrementing by 5 degrees. There should be 7 longitude and 5 latitude values. (10 pts.)\n",
    "\n",
    "The sample code also includes data array `d` with the shape (`nlat`, `nlon`), and defines some values so that we all have the same dataset. A plot of the data array in index coordintes is also included.\n",
    "\n",
    "Together these arrays define the grid cell center locations and corresponding data values."
   ]
  },
  {
   "cell_type": "code",
   "execution_count": null,
   "metadata": {},
   "outputs": [],
   "source": [
    "nlon = 7\n",
    "nlat = 5\n",
    "dlon, dlat = 5.0, 5.0\n",
    "\n",
    "d = (np.arange(nlon*nlat) - (nlon*nlat/2.0))**2.0\n",
    "d.shape = (nlat, nlon)\n",
    "\n",
    "fig = plt.figure()\n",
    "ax = fig.add_subplot(111)\n",
    "im = ax.imshow(d, origin='lower')\n",
    "plt.colorbar(im)\n",
    "ax.set_xlabel('x index')\n",
    "ax.set_ylabel('y index')\n",
    "\n",
    "# lon = ### Your code here.\n",
    "# lat = \n",
    "print(lon)\n",
    "print(lat)"
   ]
  },
  {
   "cell_type": "markdown",
   "metadata": {},
   "source": [
    "**2.** Since the image is regularly gridded in lon/lat We can use the `extent` keyword argument to `imshow` to specify the bounds of the image, as you see below. Is this plot correct or incorrect? Explain how the `extent` keyword argument works using the language of centers, edges, and nodes. (10 pts.)\n",
    "\n",
    "`print(ax.axis())` might be useful in understanding what you are seeing."
   ]
  },
  {
   "cell_type": "code",
   "execution_count": null,
   "metadata": {},
   "outputs": [],
   "source": [
    "fig = plt.figure()\n",
    "ax = fig.add_subplot(111)\n",
    "\n",
    "im = ax.imshow(d, origin='lower', extent=(lon.min(), lon.max(), lat.min(), lat.max()))\n",
    "plt.colorbar(im)\n",
    "ax.scatter(mcom_lon, mcom_lat, marker='x', color='red')\n",
    "ax.set_xlabel('longitude (degrees)')\n",
    "ax.set_ylabel('latitude (degrees)')"
   ]
  },
  {
   "cell_type": "markdown",
   "metadata": {},
   "source": [
    "ANSWER:"
   ]
  },
  {
   "cell_type": "markdown",
   "metadata": {},
   "source": [
    "**3.** Write a function that converts 1D center positions to edge positions. The function should calculate the grid spacing using only the information in the variable `x`. Use the closest adjacent spacing to extend the start and end of the array. Use this function to create two arrays `lat_edge` and `lon_edge` and print their values. Is the new figure created with `imshow` correct? Explain your answer. (20 pts.)"
   ]
  },
  {
   "cell_type": "code",
   "execution_count": null,
   "metadata": {},
   "outputs": [],
   "source": [
    "def centers_to_edges_1d(x):\n",
    "    pass # replace with your code\n",
    "    \n",
    "lon_edge = centers_to_edges_1d(lon)\n",
    "lat_edge = centers_to_edges_1d(lat)\n",
    "print(lon_edge)\n",
    "print(lat_edge)\n",
    "\n",
    "fig = plt.figure()\n",
    "ax = fig.add_subplot(111)\n",
    "im = ax.imshow(d, origin='lower', extent=(lon_edge.min(), lon_edge.max(), lat_edge.min(), lat_edge.max()))\n",
    "plt.colorbar(im)\n",
    "ax.scatter(mcom_lon, mcom_lat, marker='x', color='red')\n",
    "ax.set_xlabel('longitude (degrees)')\n",
    "ax.set_ylabel('latitude (degrees)')"
   ]
  },
  {
   "cell_type": "markdown",
   "metadata": {},
   "source": [
    "**4.** `imshow` works for the data so far because we have a regular grid with even spacing, so we only need to specify the corners. For a more general quadrilateral mesh, we can use `pcolormesh` to create a similar plot. What, if anything, is different about these plots compared to the first two? (10 pts.)"
   ]
  },
  {
   "cell_type": "code",
   "execution_count": null,
   "metadata": {},
   "outputs": [],
   "source": [
    "fig = plt.figure()\n",
    "ax = fig.add_subplot(111)\n",
    "im = ax.pcolormesh(lon, lat, d)\n",
    "plt.colorbar(im)\n",
    "ax.scatter(mcom_lon, mcom_lat, marker='x', color='red')\n",
    "ax.set_xlabel('longitude (degrees)')\n",
    "ax.set_ylabel('latitude (degrees)')\n",
    "\n",
    "\n",
    "fig = plt.figure()\n",
    "ax = fig.add_subplot(111)\n",
    "im = ax.pcolormesh(lon_edge, lat_edge, d)\n",
    "plt.colorbar(im)\n",
    "ax.scatter(mcom_lon, mcom_lat, marker='x', color='red')\n",
    "ax.set_xlabel('longitude (degrees)')\n",
    "ax.set_ylabel('latitude (degrees)')"
   ]
  },
  {
   "cell_type": "markdown",
   "metadata": {},
   "source": [
    "ANSWER:"
   ]
  },
  {
   "cell_type": "markdown",
   "metadata": {},
   "source": [
    "**5.** So far, you have used 1D coordinate arrays, and things worked fine because the data were regularly gridded. `pcolormesh` will also accept 2D coordinate arrays. The function `np.meshgrid` creates 2D arrays from 1D arrays. Use `meshgrid` to create these 2D coordinate arrays and use them to make a plot of the data using `pcolormesh`. It should match the correct plot(s) above (20 pts.)."
   ]
  },
  {
   "cell_type": "code",
   "execution_count": null,
   "metadata": {},
   "outputs": [],
   "source": [
    "np.meshgrid?"
   ]
  },
  {
   "cell_type": "code",
   "execution_count": null,
   "metadata": {},
   "outputs": [],
   "source": [
    "# Your code here\n",
    "print(d)\n",
    "print(lat_edge_2d)\n",
    "print(lon_edge_2d)\n",
    "\n",
    "# Your plots here, or in a new cell"
   ]
  },
  {
   "cell_type": "code",
   "execution_count": null,
   "metadata": {},
   "outputs": [],
   "source": []
  }
 ],
 "metadata": {
  "kernelspec": {
   "display_name": "Python [conda env:atmo5322]",
   "language": "python",
   "name": "conda-env-atmo5322-py"
  },
  "language_info": {
   "codemirror_mode": {
    "name": "ipython",
    "version": 3
   },
   "file_extension": ".py",
   "mimetype": "text/x-python",
   "name": "python",
   "nbconvert_exporter": "python",
   "pygments_lexer": "ipython3",
   "version": "3.10.5"
  }
 },
 "nbformat": 4,
 "nbformat_minor": 4
}
