{
 "cells": [
  {
   "cell_type": "code",
   "execution_count": 132,
   "metadata": {},
   "outputs": [
    {
     "data": {
      "text/html": [
       "<style type=\"text/css\">\n",
       "  span.ecb { background: yellow; }\n",
       "</style>\n"
      ],
      "text/plain": [
       "<IPython.core.display.HTML object>"
      ]
     },
     "metadata": {},
     "output_type": "display_data"
    }
   ],
   "source": [
    "%%html\n",
    "<style type=\"text/css\">\n",
    "  span.ecb { background: yellow; }\n",
    "</style>"
   ]
  },
  {
   "cell_type": "markdown",
   "metadata": {
    "tags": []
   },
   "source": [
    "# ATMO 5331 - Homework 3 - Fall 2023\n",
    "## Due Monday 9 Oct, 2023, 11:59 pm\n",
    "\n",
    "When doing this homework, remember that you have two jobs:\n",
    "1. Make it work.\n",
    "2. Clean it up so that I can understand what you've done. If you think I might not understand, document it with a comment or a function docstring.\n",
    "\n",
    "You should present your work with a clear logical progression. If that seems like a hassle, remember that in doing so you are practicing skills that are expected in your thesis and journal publications.\n",
    "\n",
    "For this assignment you may work alone or in pairs. I will not be adjudicating relative level of effort in group work, so you are responsible for ensuring that you and your partner contribute equally."
   ]
  },
  {
   "cell_type": "markdown",
   "metadata": {},
   "source": [
    "<span class=\"ecb\">Comments by ECB</span>"
   ]
  },
  {
   "cell_type": "code",
   "execution_count": 1,
   "metadata": {},
   "outputs": [],
   "source": [
    "%matplotlib inline\n",
    "import matplotlib.pyplot as plt\n",
    "import xarray as xr\n",
    "import numpy as np\n",
    "\n",
    "from pandas.plotting import register_matplotlib_converters\n",
    "register_matplotlib_converters()"
   ]
  },
  {
   "cell_type": "markdown",
   "metadata": {},
   "source": [
    "For this assignment, download some [sample Ka data](http://www.atmo.ttu.edu/bruning/5331/Ka2140614021408.RAWPXA9.nc). These data were converted directly from the raw format collected by the radar (Sigmet) to the [NetCDF CF/Radial standard](http://ncar.github.io/CfRadial/). No further processing has been applied. You do not have to include this file in your repository.\n",
    "\n",
    "In the file, the radar variables (such as reflectivity) are stored in arrays with dimension `(time, range)`. At each time, a single ray of data is collected, which extends along range. There is also a `sweep` dimension that corresponds to a few different variables. These variables mark the start and the end of each radar scan. Let's look at that structure:"
   ]
  },
  {
   "cell_type": "code",
   "execution_count": 19,
   "metadata": {},
   "outputs": [
    {
     "name": "stdout",
     "output_type": "stream",
     "text": [
      "<xarray.Dataset>\n",
      "Dimensions:                    (range: 1666, sweep: 5, time: 2938)\n",
      "Coordinates:\n",
      "  * time                       (time) datetime64[ns] 2014-06-14T02:14:19 ... 2014-06-14T02:14:52\n",
      "  * range                      (range) float32 0.0 15.0 30.0 ... 24960.0 24975.0\n",
      "    azimuth                    (time) float32 ...\n",
      "    elevation                  (time) float32 ...\n",
      "Dimensions without coordinates: sweep\n",
      "Data variables:\n",
      "    total_power                (time, range) float32 ...\n",
      "    reflectivity               (time, range) float32 ...\n",
      "    velocity                   (time, range) float32 ...\n",
      "    spectrum_width             (time, range) float32 ...\n",
      "    normalized_coherent_power  (time, range) float32 ...\n",
      "    sweep_number               (sweep) int32 ...\n",
      "    fixed_angle                (sweep) float32 ...\n",
      "    sweep_start_ray_index      (sweep) int32 ...\n",
      "    sweep_end_ray_index        (sweep) int32 ...\n",
      "    sweep_mode                 (sweep) |S32 ...\n",
      "    unambiguous_range          (time) float32 ...\n",
      "    prt_mode                   (sweep) |S32 ...\n",
      "    prt                        (time) timedelta64[ns] ...\n",
      "    prt_ratio                  (time) float32 ...\n",
      "    nyquist_velocity           (time) float32 ...\n",
      "    radar_beam_width_h         float32 ...\n",
      "    radar_beam_width_v         float32 ...\n",
      "    pulse_width                (time) timedelta64[ns] ...\n",
      "    latitude                   float64 ...\n",
      "    longitude                  float64 ...\n",
      "    altitude                   float64 ...\n",
      "    time_coverage_start        |S32 ...\n",
      "    time_coverage_end          |S32 ...\n",
      "    time_reference             |S32 ...\n",
      "    volume_number              int32 ...\n",
      "Attributes:\n",
      "    Conventions:             CF/Radial instrument_parameters\n",
      "    version:                 1.3\n",
      "    title:                   \n",
      "    institution:             \n",
      "    references:              \n",
      "    source:                  \n",
      "    comment:                 \n",
      "    instrument_name:         TTUKa-2\n",
      "    original_container:      sigmet\n",
      "    sigmet_task_name:        TRANS_RHI   \n",
      "    sigmet_extended_header:  false\n",
      "    time_ordered:            none\n",
      "    rays_missing:            67\n",
      "    field_names:             total_power, reflectivity, velocity, spectrum_wi...\n",
      "    history:                 \n",
      "<xarray.Variable (time: 10)>\n",
      "array([-0.032955,  0.071411,  0.170288,  0.274658,  0.373535,  0.472412,\n",
      "        0.576782,  0.678406,  0.780029,  0.873413], dtype=float32)\n",
      "Attributes:\n",
      "    long_name:      elevation_angle_from_horizontal_plane\n",
      "    units:          degrees\n",
      "    standard_name:  beam_elevation_angle\n",
      "    axis:           radial_elevation_coordinate\n",
      "    comment:        Elevation of antenna relative to the horizontal plane\n",
      "<xarray.Variable ()>\n",
      "array(60.03753, dtype=float32)\n",
      "Attributes:\n",
      "    long_name:      elevation_angle_from_horizontal_plane\n",
      "    units:          degrees\n",
      "    standard_name:  beam_elevation_angle\n",
      "    axis:           radial_elevation_coordinate\n",
      "    comment:        Elevation of antenna relative to the horizontal plane\n",
      "<xarray.DataArray 'elevation' (time: 10)>\n",
      "array([-0.032955,  0.071411,  0.170288,  0.274658,  0.373535,  0.472412,\n",
      "        0.576782,  0.678406,  0.780029,  0.873413], dtype=float32)\n",
      "Coordinates:\n",
      "  * time       (time) datetime64[ns] 2014-06-14T02:14:19 ... 2014-06-14T02:14:19\n",
      "    azimuth    (time) float32 ...\n",
      "    elevation  (time) float32 ...\n",
      "Attributes:\n",
      "    long_name:      elevation_angle_from_horizontal_plane\n",
      "    units:          degrees\n",
      "    standard_name:  beam_elevation_angle\n",
      "    axis:           radial_elevation_coordinate\n",
      "    comment:        Elevation of antenna relative to the horizontal plane\n"
     ]
    }
   ],
   "source": [
    "# d = xr.open_dataset('../../../cfrad.20080604_002217_000_SPOL_v36_SUR.nc')\n",
    "d = xr.open_dataset('/data/KaSample/Ka2140614021408.RAWPXA9.nc')\n",
    "\n",
    "print(d)\n",
    "\n",
    "# Print the first ten elevation angles.\n",
    "print(d.variables['elevation'][0:10])\n",
    "\n",
    "# Shortcut to variable access\n",
    "print(d.elevation[0:10])"
   ]
  },
  {
   "cell_type": "code",
   "execution_count": 20,
   "metadata": {},
   "outputs": [
    {
     "name": "stdout",
     "output_type": "stream",
     "text": [
      "<xarray.DataArray 'sweep_mode' (sweep: 5)>\n",
      "array([b'rhi', b'rhi', b'rhi', b'rhi', b'rhi'], dtype='|S32')\n",
      "Dimensions without coordinates: sweep\n",
      "Attributes:\n",
      "    long_name:      Sweep mode\n",
      "    units:          unitless\n",
      "    standard_name:  sweep_mode\n",
      "    comment:        Options are: \"sector\", \"coplane\", \"rhi\", \"vertical_pointi...\n",
      "<xarray.DataArray 'sweep_start_ray_index' (sweep: 5)>\n",
      "array([   0,  590, 1176, 1766, 2352], dtype=int32)\n",
      "Dimensions without coordinates: sweep\n",
      "Attributes:\n",
      "    long_name:  Index of first ray in sweep, 0-based\n",
      "    units:      count\n",
      "<xarray.DataArray 'sweep_end_ray_index' (sweep: 5)>\n",
      "array([ 589, 1175, 1765, 2351, 2937], dtype=int32)\n",
      "Dimensions without coordinates: sweep\n",
      "Attributes:\n",
      "    long_name:  Index of last ray in sweep, 0-based\n",
      "    units:      count\n"
     ]
    },
    {
     "data": {
      "image/png": "[encoded data removed]",
      "text/plain": [
       "<Figure size 720x720 with 3 Axes>"
      ]
     },
     "metadata": {
      "needs_background": "light"
     },
     "output_type": "display_data"
    }
   ],
   "source": [
    "print(d.sweep_mode)\n",
    "print(d.sweep_start_ray_index)\n",
    "print(d.sweep_end_ray_index)\n",
    "\n",
    "az = d.azimuth[:]\n",
    "el = d.elevation[:]\n",
    "t = d.time[:]\n",
    "fig, axs = plt.subplots(3,1, squeeze=False, figsize=(10,10))\n",
    "\n",
    "axs[0,0].plot(t,el, '.k')\n",
    "axs[0,0].set_ylabel('Elevation angle (deg)')\n",
    "axs[0,0].set_xlabel('Time (UTC)')\n",
    "axs[1,0].plot(t,az, '.k')\n",
    "axs[1,0].set_ylabel('Azimuth angle (deg)')\n",
    "axs[1,0].set_xlabel('Time (UTC)')\n",
    "axs[2,0].plot(t, np.arange(t.shape[0]), '.k')\n",
    "axs[2,0].set_ylabel('Index along time dimension')\n",
    "axs[2,0].set_xlabel('Time (UTC)')\n",
    "for sw_start, sw_end in zip(d.sweep_start_ray_index, d.sweep_end_ray_index):\n",
    "    axs[0,0].plot(t[sw_start], el[sw_start], marker='o', color='g')\n",
    "    axs[0,0].plot(t[sw_end], el[sw_end], marker='o',color='r')\n",
    "    axs[2,0].plot(t[sw_start], sw_start, marker='o', color='g')\n",
    "    axs[2,0].plot(t[sw_end], sw_end, marker='o',color='r')"
   ]
  },
  {
   "cell_type": "markdown",
   "metadata": {},
   "source": [
    "The green dots mark the start of a sweep according to `sweep_start_ray_index`, and red marks the end according to `sweep_end_ray_index`. We observe that:\n",
    "\n",
    "0. the scans are in [RHI](http://ww2010.atmos.uiuc.edu/(Gh)/guides/rs/rad/basics/cnmod.rxml) mode, per the scan_mode variable.\n",
    "1. the data have time precision of 1 s\n",
    "2. the data are not stored in time order.\n",
    "3. the data are stored in the file in order of increasing elevation angle, not increasing time.\n",
    "4. azimuth angle is constant."
   ]
  },
  {
   "cell_type": "markdown",
   "metadata": {},
   "source": [
    "For the rest of this assignment, let's work with the second of the five scans, where time and elevation both increase with index along the time dimension. Reuse this variable instead of hard-coding a scan number in later code."
   ]
  },
  {
   "cell_type": "code",
   "execution_count": 21,
   "metadata": {},
   "outputs": [],
   "source": [
    "scan_idx = 1"
   ]
  },
  {
   "cell_type": "markdown",
   "metadata": {},
   "source": [
    "**1.** Let's start by preparing the coordinates needed to plot a scan. Write a function that takes a radar dataset and scan index, and returns  2D arrays of ranges, azimuths, and elevations that correspond to the edges of each radar sample (a.k.a., each gate). Your function should return three separate 2D variables, as you see in the sample function call below. `coords_2d` should call another helper function, `spherical_coord_edges(d, scan_idx)` that returns the 1D coordinates along each coordinate direction for that sweep. I found it helpful to visualize how the coordinates were distributed in 2D a quick, unlableled plot of each coordinate: `plt.imshow(r)`.\n",
    "\n",
    "Also print out the shapes of r, az, and el."
   ]
  },
  {
   "cell_type": "code",
   "execution_count": 22,
   "metadata": {},
   "outputs": [],
   "source": [
    "r, az, el = coords_2d(d, scan_idx)"
   ]
  },
  {
   "cell_type": "markdown",
   "metadata": {},
   "source": [
    "**2.** Make a 4-panel plot of reflectivity, velocity, spectrum width, and normalized coherent power. Use `coordinateSystems.RadarCoordinateSystem` together with a tangent plane system to plot in altitude above vs. range along a tangent plane. The tangent plane should be centered at the location of radar. You will need to definte a new variable that gives range along the tangent plane.\n",
    "\n",
    "Note that if you find that the coordinate transformations fail to preserve the shape of your input coordinate arrays, you can fix it with `X.shape = r.shape`, where `X` has been transformed from `r`."
   ]
  },
  {
   "cell_type": "markdown",
   "metadata": {},
   "source": [
    "**3.** Repeat the plot for question 2, but for an aziuthal equidistant map projection centered at the radar location.\n",
    "\n",
    "As above, you will to definte a new variable that gives a horizontal distance (a sort of \"range\") using the coordinates returned from the map projection. This can be calculated in one line of code.\n",
    "\n",
    "How does this plot compare to the plot defined in tangent plane coordinates?"
   ]
  },
  {
   "cell_type": "code",
   "execution_count": 27,
   "metadata": {},
   "outputs": [
    {
     "name": "stdout",
     "output_type": "stream",
     "text": [
      "<xarray.DataArray 'latitude' ()>\n",
      "array(34.72259)\n",
      "Attributes:\n",
      "    long_name:      Latitude\n",
      "    units:          degrees_north\n",
      "    standard_name:  Latitude\n",
      "<xarray.DataArray 'longitude' ()>\n",
      "array(-76.74685)\n",
      "Attributes:\n",
      "    long_name:      Longitude\n",
      "    units:          degrees_east\n",
      "    standard_name:  Longitude\n",
      "<xarray.DataArray 'range' ()>\n",
      "array(15., dtype=float32)\n"
     ]
    }
   ],
   "source": [
    "# Where is the radar? What is its gate spacing?\n",
    "print(d.latitude)\n",
    "print(d.longitude)\n",
    "print(d.range[1]-d.range[0])"
   ]
  },
  {
   "cell_type": "markdown",
   "metadata": {},
   "source": [
    "To set the stage for the next two assignments, let's say we want to oversample the 15 m range gates to a 5 m carteisian grid in the domain 9.0…9.5 km range and 2.9…3.4 km altitude. Once again, we will use the distance above and the range along the tangent plane.\n",
    "\n",
    "**4.** Create 2D arrays giving the corresponding center locations for each desired analysis location. Start with 1D grid box edges spanning the range above."
   ]
  },
  {
   "cell_type": "markdown",
   "metadata": {},
   "source": [
    "**5.** For the next question, we will interpolate in three ways:\n",
    "- nearest neighbor\n",
    "- linear\n",
    "- the traditional meteorological \"Barnes\" analysis (which is really a Gaussian blur fliter). \n",
    "\n",
    "To do so, we will use MetPy's built-in interpolators. It wraps SciPy's built-in nearest and linear interpolation methods, and adds Barnes, natural neighbor, and other interpolators. \n",
    "\n",
    "You will probably need to install metpy with `conda install -c conda-forge metpy`.\n",
    "\n",
    "Once you have installed MetPy, use its `interpolate_to_points` function. Note that it takes three arguments, and those arguments require that you use `np.vstack` to rearrange the locations and data into the correct shape.\n",
    "\n",
    "So that the Barnes analysis doesn't take forever, you will want to subset the data to only those locations that overlap with the analysis grid."
   ]
  },
  {
   "cell_type": "code",
   "execution_count": 134,
   "metadata": {},
   "outputs": [
    {
     "data": {
      "text/plain": [
       "\u001b[0;31mSignature:\u001b[0m\n",
       "\u001b[0minterpolate_to_points\u001b[0m\u001b[0;34m(\u001b[0m\u001b[0;34m\u001b[0m\n",
       "\u001b[0;34m\u001b[0m    \u001b[0mpoints\u001b[0m\u001b[0;34m,\u001b[0m\u001b[0;34m\u001b[0m\n",
       "\u001b[0;34m\u001b[0m    \u001b[0mvalues\u001b[0m\u001b[0;34m,\u001b[0m\u001b[0;34m\u001b[0m\n",
       "\u001b[0;34m\u001b[0m    \u001b[0mxi\u001b[0m\u001b[0;34m,\u001b[0m\u001b[0;34m\u001b[0m\n",
       "\u001b[0;34m\u001b[0m    \u001b[0minterp_type\u001b[0m\u001b[0;34m=\u001b[0m\u001b[0;34m'linear'\u001b[0m\u001b[0;34m,\u001b[0m\u001b[0;34m\u001b[0m\n",
       "\u001b[0;34m\u001b[0m    \u001b[0mminimum_neighbors\u001b[0m\u001b[0;34m=\u001b[0m\u001b[0;36m3\u001b[0m\u001b[0;34m,\u001b[0m\u001b[0;34m\u001b[0m\n",
       "\u001b[0;34m\u001b[0m    \u001b[0mgamma\u001b[0m\u001b[0;34m=\u001b[0m\u001b[0;36m0.25\u001b[0m\u001b[0;34m,\u001b[0m\u001b[0;34m\u001b[0m\n",
       "\u001b[0;34m\u001b[0m    \u001b[0mkappa_star\u001b[0m\u001b[0;34m=\u001b[0m\u001b[0;36m5.052\u001b[0m\u001b[0;34m,\u001b[0m\u001b[0;34m\u001b[0m\n",
       "\u001b[0;34m\u001b[0m    \u001b[0msearch_radius\u001b[0m\u001b[0;34m=\u001b[0m\u001b[0;32mNone\u001b[0m\u001b[0;34m,\u001b[0m\u001b[0;34m\u001b[0m\n",
       "\u001b[0;34m\u001b[0m    \u001b[0mrbf_func\u001b[0m\u001b[0;34m=\u001b[0m\u001b[0;34m'linear'\u001b[0m\u001b[0;34m,\u001b[0m\u001b[0;34m\u001b[0m\n",
       "\u001b[0;34m\u001b[0m    \u001b[0mrbf_smooth\u001b[0m\u001b[0;34m=\u001b[0m\u001b[0;36m0\u001b[0m\u001b[0;34m,\u001b[0m\u001b[0;34m\u001b[0m\n",
       "\u001b[0;34m\u001b[0m\u001b[0;34m)\u001b[0m\u001b[0;34m\u001b[0m\u001b[0;34m\u001b[0m\u001b[0m\n",
       "\u001b[0;31mDocstring:\u001b[0m\n",
       "Interpolate unstructured point data to the given points.\n",
       "\n",
       "This function interpolates the given `values` valid at `points` to the points `xi`. This is\n",
       "modeled after `scipy.interpolate.griddata`, but acts as a generalization of it by including\n",
       "the following types of interpolation:\n",
       "\n",
       "- Linear\n",
       "- Nearest Neighbor\n",
       "- Cubic\n",
       "- Radial Basis Function\n",
       "- Natural Neighbor (2D Only)\n",
       "- Barnes (2D Only)\n",
       "- Cressman (2D Only)\n",
       "\n",
       "Parameters\n",
       "----------\n",
       "points: array_like, shape (n, D)\n",
       "    Coordinates of the data points.\n",
       "values: array_like, shape (n,)\n",
       "    Values of the data points.\n",
       "xi: array_like, shape (M, D)\n",
       "    Points to interpolate the data onto.\n",
       "interp_type: str\n",
       "    What type of interpolation to use. Available options include:\n",
       "    1) \"linear\", \"nearest\", \"cubic\", or \"rbf\" from `scipy.interpolate`.\n",
       "    2) \"natural_neighbor\", \"barnes\", or \"cressman\" from `metpy.interpolate`.\n",
       "    Default \"linear\".\n",
       "minimum_neighbors: int\n",
       "    Minimum number of neighbors needed to perform barnes or cressman interpolation for a\n",
       "    point. Default is 3.\n",
       "gamma: float\n",
       "    Adjustable smoothing parameter for the barnes interpolation. Default 0.25.\n",
       "kappa_star: float\n",
       "    Response parameter for barnes interpolation, specified nondimensionally\n",
       "    in terms of the Nyquist. Default 5.052\n",
       "search_radius: float\n",
       "    A search radius to use for the barnes and cressman interpolation schemes.\n",
       "    If search_radius is not specified, it will default to the average spacing of\n",
       "    observations.\n",
       "rbf_func: str\n",
       "    Specifies which function to use for Rbf interpolation.\n",
       "    Options include: 'multiquadric', 'inverse', 'gaussian', 'linear', 'cubic',\n",
       "    'quintic', and 'thin_plate'. Defualt 'linear'. See `scipy.interpolate.Rbf` for more\n",
       "    information.\n",
       "rbf_smooth: float\n",
       "    Smoothing value applied to rbf interpolation.  Higher values result in more smoothing.\n",
       "\n",
       "Returns\n",
       "-------\n",
       "values_interpolated: (M,) ndarray\n",
       "    Array representing the interpolated values for each input point in `xi`.\n",
       "\n",
       "Notes\n",
       "-----\n",
       "This function primarily acts as a wrapper for the individual interpolation routines. The\n",
       "individual functions are also available for direct use.\n",
       "\n",
       "See Also\n",
       "--------\n",
       "interpolate_to_grid\n",
       "\u001b[0;31mFile:\u001b[0m      ~/miniconda3/envs/glmval/lib/python3.6/site-packages/metpy/interpolate/points.py\n",
       "\u001b[0;31mType:\u001b[0m      function\n"
      ]
     },
     "metadata": {},
     "output_type": "display_data"
    }
   ],
   "source": [
    "# from scipy.interpolate import LinearNDInterpolator, NearestNDInterpolator, griddata\n",
    "# from metpy.units import units\n",
    "from metpy.interpolate import interpolate_to_points\n",
    "interpolate_to_points?"
   ]
  },
  {
   "cell_type": "markdown",
   "metadata": {},
   "source": [
    "**6.** Make a plot of the original data and the three interpolation methods. Compared to the original data, what do the three interpolation methods do to the data? Think about what you would regard as desirable properties of an analysis."
   ]
  },
  {
   "cell_type": "markdown",
   "metadata": {},
   "source": [
    "**Some demonstration code** showing some useful array tricks is provided below."
   ]
  },
  {
   "cell_type": "code",
   "execution_count": 1,
   "metadata": {},
   "outputs": [],
   "source": [
    "import numpy as np"
   ]
  },
  {
   "cell_type": "code",
   "execution_count": 2,
   "metadata": {},
   "outputs": [
    {
     "data": {
      "text/plain": [
       "\u001b[0;31mSignature:\u001b[0m \u001b[0mnp\u001b[0m\u001b[0;34m.\u001b[0m\u001b[0mvstack\u001b[0m\u001b[0;34m(\u001b[0m\u001b[0mtup\u001b[0m\u001b[0;34m)\u001b[0m\u001b[0;34m\u001b[0m\u001b[0;34m\u001b[0m\u001b[0m\n",
       "\u001b[0;31mDocstring:\u001b[0m\n",
       "Stack arrays in sequence vertically (row wise).\n",
       "\n",
       "This is equivalent to concatenation along the first axis after 1-D arrays\n",
       "of shape `(N,)` have been reshaped to `(1,N)`. Rebuilds arrays divided by\n",
       "`vsplit`.\n",
       "\n",
       "This function makes most sense for arrays with up to 3 dimensions. For\n",
       "instance, for pixel-data with a height (first axis), width (second axis),\n",
       "and r/g/b channels (third axis). The functions `concatenate`, `stack` and\n",
       "`block` provide more general stacking and concatenation operations.\n",
       "\n",
       "Parameters\n",
       "----------\n",
       "tup : sequence of ndarrays\n",
       "    The arrays must have the same shape along all but the first axis.\n",
       "    1-D arrays must have the same length.\n",
       "\n",
       "Returns\n",
       "-------\n",
       "stacked : ndarray\n",
       "    The array formed by stacking the given arrays, will be at least 2-D.\n",
       "\n",
       "See Also\n",
       "--------\n",
       "concatenate : Join a sequence of arrays along an existing axis.\n",
       "stack : Join a sequence of arrays along a new axis.\n",
       "block : Assemble an nd-array from nested lists of blocks.\n",
       "hstack : Stack arrays in sequence horizontally (column wise).\n",
       "dstack : Stack arrays in sequence depth wise (along third axis).\n",
       "column_stack : Stack 1-D arrays as columns into a 2-D array.\n",
       "vsplit : Split an array into multiple sub-arrays vertically (row-wise).\n",
       "\n",
       "Examples\n",
       "--------\n",
       ">>> a = np.array([1, 2, 3])\n",
       ">>> b = np.array([4, 5, 6])\n",
       ">>> np.vstack((a,b))\n",
       "array([[1, 2, 3],\n",
       "       [4, 5, 6]])\n",
       "\n",
       ">>> a = np.array([[1], [2], [3]])\n",
       ">>> b = np.array([[4], [5], [6]])\n",
       ">>> np.vstack((a,b))\n",
       "array([[1],\n",
       "       [2],\n",
       "       [3],\n",
       "       [4],\n",
       "       [5],\n",
       "       [6]])\n",
       "\u001b[0;31mFile:\u001b[0m      ~/miniconda3/lib/python3.9/site-packages/numpy/core/shape_base.py\n",
       "\u001b[0;31mType:\u001b[0m      function\n"
      ]
     },
     "metadata": {},
     "output_type": "display_data"
    }
   ],
   "source": [
    "np.vstack?"
   ]
  },
  {
   "cell_type": "code",
   "execution_count": null,
   "metadata": {},
   "outputs": [],
   "source": [
    "a = np.array([1,2,3])\n",
    "b = np.array([3,4,5])"
   ]
  },
  {
   "cell_type": "code",
   "execution_count": null,
   "metadata": {},
   "outputs": [
    {
     "data": {
      "text/plain": [
       "array([1, 2, 3])"
      ]
     },
     "execution_count": 4,
     "metadata": {},
     "output_type": "execute_result"
    }
   ],
   "source": [
    "a"
   ]
  },
  {
   "cell_type": "code",
   "execution_count": null,
   "metadata": {},
   "outputs": [
    {
     "data": {
      "text/plain": [
       "array([3, 4, 5])"
      ]
     },
     "execution_count": 5,
     "metadata": {},
     "output_type": "execute_result"
    }
   ],
   "source": [
    "b"
   ]
  },
  {
   "cell_type": "code",
   "execution_count": 7,
   "metadata": {},
   "outputs": [],
   "source": [
    "s=np.vstack((a,b))"
   ]
  },
  {
   "cell_type": "code",
   "execution_count": 8,
   "metadata": {},
   "outputs": [
    {
     "data": {
      "text/plain": [
       "array([[1, 2, 3],\n",
       "       [3, 4, 5]])"
      ]
     },
     "execution_count": 8,
     "metadata": {},
     "output_type": "execute_result"
    }
   ],
   "source": [
    "s"
   ]
  },
  {
   "cell_type": "code",
   "execution_count": 10,
   "metadata": {},
   "outputs": [
    {
     "data": {
      "text/plain": [
       "(2, 3)"
      ]
     },
     "execution_count": 10,
     "metadata": {},
     "output_type": "execute_result"
    }
   ],
   "source": [
    "s.shape"
   ]
  },
  {
   "cell_type": "code",
   "execution_count": 11,
   "metadata": {},
   "outputs": [
    {
     "data": {
      "text/plain": [
       "array([[1, 3],\n",
       "       [2, 4],\n",
       "       [3, 5]])"
      ]
     },
     "execution_count": 11,
     "metadata": {},
     "output_type": "execute_result"
    }
   ],
   "source": [
    "s.T"
   ]
  },
  {
   "cell_type": "code",
   "execution_count": 12,
   "metadata": {},
   "outputs": [],
   "source": [
    "z=np.ones_like(s.T)"
   ]
  },
  {
   "cell_type": "code",
   "execution_count": 14,
   "metadata": {},
   "outputs": [
    {
     "data": {
      "text/plain": [
       "array([1, 1, 1, 1, 1, 1])"
      ]
     },
     "execution_count": 14,
     "metadata": {},
     "output_type": "execute_result"
    }
   ],
   "source": [
    "z.flatten()"
   ]
  },
  {
   "cell_type": "code",
   "execution_count": 15,
   "metadata": {},
   "outputs": [
    {
     "data": {
      "text/plain": [
       "array([1, 2, 3, 3, 4, 5])"
      ]
     },
     "execution_count": 15,
     "metadata": {},
     "output_type": "execute_result"
    }
   ],
   "source": [
    "np.hstack((a,b))"
   ]
  },
  {
   "cell_type": "code",
   "execution_count": 16,
   "metadata": {},
   "outputs": [
    {
     "data": {
      "text/plain": [
       "(3, 2)"
      ]
     },
     "execution_count": 16,
     "metadata": {},
     "output_type": "execute_result"
    }
   ],
   "source": [
    "z.shape"
   ]
  },
  {
   "cell_type": "code",
   "execution_count": 17,
   "metadata": {},
   "outputs": [
    {
     "data": {
      "text/plain": [
       "array([1, 1, 1, 1, 1, 1])"
      ]
     },
     "execution_count": 17,
     "metadata": {},
     "output_type": "execute_result"
    }
   ],
   "source": [
    "np.hstack((z[:,0], z[:,1]))"
   ]
  },
  {
   "cell_type": "code",
   "execution_count": 19,
   "metadata": {},
   "outputs": [
    {
     "data": {
      "text/plain": [
       "(1, 3)"
      ]
     },
     "execution_count": 19,
     "metadata": {},
     "output_type": "execute_result"
    }
   ],
   "source": [
    "a[None,:].shape"
   ]
  },
  {
   "cell_type": "code",
   "execution_count": 22,
   "metadata": {},
   "outputs": [
    {
     "data": {
      "text/plain": [
       "(3, 1)"
      ]
     },
     "execution_count": 22,
     "metadata": {},
     "output_type": "execute_result"
    }
   ],
   "source": [
    "b[:,None].shape"
   ]
  },
  {
   "cell_type": "code",
   "execution_count": 25,
   "metadata": {},
   "outputs": [
    {
     "data": {
      "text/plain": [
       "array([[ 3,  6,  9],\n",
       "       [ 4,  8, 12],\n",
       "       [ 5, 10, 15]])"
      ]
     },
     "execution_count": 25,
     "metadata": {},
     "output_type": "execute_result"
    }
   ],
   "source": [
    "sq = a[None,:]*b[:,None]\n",
    "sq"
   ]
  },
  {
   "cell_type": "code",
   "execution_count": 35,
   "metadata": {},
   "outputs": [
    {
     "data": {
      "text/plain": [
       "array([[False,  True,  True],\n",
       "       [False,  True, False],\n",
       "       [False,  True, False]])"
      ]
     },
     "execution_count": 35,
     "metadata": {},
     "output_type": "execute_result"
    }
   ],
   "source": [
    "sel = (sq > 5) & (sq <=10)\n",
    "sel"
   ]
  },
  {
   "cell_type": "code",
   "execution_count": 34,
   "metadata": {},
   "outputs": [
    {
     "data": {
      "text/plain": [
       "0"
      ]
     },
     "execution_count": 34,
     "metadata": {},
     "output_type": "execute_result"
    }
   ],
   "source": [
    "np.argmin(sq)"
   ]
  },
  {
   "cell_type": "code",
   "execution_count": 31,
   "metadata": {},
   "outputs": [
    {
     "data": {
      "text/plain": [
       "(array([0, 0, 1, 2]), array([1, 2, 1, 1]))"
      ]
     },
     "execution_count": 31,
     "metadata": {},
     "output_type": "execute_result"
    }
   ],
   "source": [
    "np.where(sel)"
   ]
  },
  {
   "cell_type": "code",
   "execution_count": 32,
   "metadata": {},
   "outputs": [
    {
     "data": {
      "text/plain": [
       "\u001b[0;31mDocstring:\u001b[0m\n",
       "where(condition, [x, y])\n",
       "\n",
       "Return elements chosen from `x` or `y` depending on `condition`.\n",
       "\n",
       ".. note::\n",
       "    When only `condition` is provided, this function is a shorthand for\n",
       "    ``np.asarray(condition).nonzero()``. Using `nonzero` directly should be\n",
       "    preferred, as it behaves correctly for subclasses. The rest of this\n",
       "    documentation covers only the case where all three arguments are\n",
       "    provided.\n",
       "\n",
       "Parameters\n",
       "----------\n",
       "condition : array_like, bool\n",
       "    Where True, yield `x`, otherwise yield `y`.\n",
       "x, y : array_like\n",
       "    Values from which to choose. `x`, `y` and `condition` need to be\n",
       "    broadcastable to some shape.\n",
       "\n",
       "Returns\n",
       "-------\n",
       "out : ndarray\n",
       "    An array with elements from `x` where `condition` is True, and elements\n",
       "    from `y` elsewhere.\n",
       "\n",
       "See Also\n",
       "--------\n",
       "choose\n",
       "nonzero : The function that is called when x and y are omitted\n",
       "\n",
       "Notes\n",
       "-----\n",
       "If all the arrays are 1-D, `where` is equivalent to::\n",
       "\n",
       "    [xv if c else yv\n",
       "     for c, xv, yv in zip(condition, x, y)]\n",
       "\n",
       "Examples\n",
       "--------\n",
       ">>> a = np.arange(10)\n",
       ">>> a\n",
       "array([0, 1, 2, 3, 4, 5, 6, 7, 8, 9])\n",
       ">>> np.where(a < 5, a, 10*a)\n",
       "array([ 0,  1,  2,  3,  4, 50, 60, 70, 80, 90])\n",
       "\n",
       "This can be used on multidimensional arrays too:\n",
       "\n",
       ">>> np.where([[True, False], [True, True]],\n",
       "...          [[1, 2], [3, 4]],\n",
       "...          [[9, 8], [7, 6]])\n",
       "array([[1, 8],\n",
       "       [3, 4]])\n",
       "\n",
       "The shapes of x, y, and the condition are broadcast together:\n",
       "\n",
       ">>> x, y = np.ogrid[:3, :4]\n",
       ">>> np.where(x < y, x, 10 + y)  # both x and 10+y are broadcast\n",
       "array([[10,  0,  0,  0],\n",
       "       [10, 11,  1,  1],\n",
       "       [10, 11, 12,  2]])\n",
       "\n",
       ">>> a = np.array([[0, 1, 2],\n",
       "...               [0, 2, 4],\n",
       "...               [0, 3, 6]])\n",
       ">>> np.where(a < 4, a, -1)  # -1 is broadcast\n",
       "array([[ 0,  1,  2],\n",
       "       [ 0,  2, -1],\n",
       "       [ 0,  3, -1]])\n",
       "\u001b[0;31mType:\u001b[0m      function\n"
      ]
     },
     "metadata": {},
     "output_type": "display_data"
    }
   ],
   "source": [
    "np.where?"
   ]
  },
  {
   "cell_type": "code",
   "execution_count": null,
   "metadata": {},
   "outputs": [],
   "source": [
    "x_cond = (ds.x_coord > 5)\n",
    "\n",
    "ds[ {'x_dim':x_cond, 'y_dim':y_cond} ]"
   ]
  }
 ],
 "metadata": {
  "kernelspec": {
   "display_name": "Python [conda env:atmo5331]",
   "language": "python",
   "name": "conda-env-atmo5331-py"
  },
  "language_info": {
   "codemirror_mode": {
    "name": "ipython",
    "version": 3
   },
   "file_extension": ".py",
   "mimetype": "text/x-python",
   "name": "python",
   "nbconvert_exporter": "python",
   "pygments_lexer": "ipython3",
   "version": "3.10.12"
  }
 },
 "nbformat": 4,
 "nbformat_minor": 4
}
